{
  "nbformat": 4,
  "nbformat_minor": 0,
  "metadata": {
    "colab": {
      "provenance": [],
      "authorship_tag": "ABX9TyPYHC8dcelTcHTj8SGmhOzA",
      "include_colab_link": true
    },
    "kernelspec": {
      "name": "python3",
      "display_name": "Python 3"
    },
    "language_info": {
      "name": "python"
    }
  },
  "cells": [
    {
      "cell_type": "markdown",
      "metadata": {
        "id": "view-in-github",
        "colab_type": "text"
      },
      "source": [
        "<a href=\"https://colab.research.google.com/github/raheelam98/Python_Classes/blob/main/Data%20Structure%20and%20Algorithm/search_vowel.ipynb\" target=\"_parent\"><img src=\"https://colab.research.google.com/assets/colab-badge.svg\" alt=\"Open In Colab\"/></a>"
      ]
    },
    {
      "cell_type": "markdown",
      "source": [
        "**Searching** = Looking for an element.\n",
        "\n",
        "**Sorting** = Arranging all elements.\n",
        "\n",
        "| Feature        | Searching                              | Sorting                   |\n",
        "| -------------- | -------------------------------------- | ------------------------- |\n",
        "| **Purpose**    | Find an element                        | Arrange elements          |\n",
        "| **Output**     | Location/Existence of item             | Ordered list              |\n",
        "| **Algorithms** | Linear, Binary                         | Quick, Merge, Bubble      |\n",
        "| **Dependency** | Can be done on unsorted or sorted data | Requires rearranging data |\n"
      ],
      "metadata": {
        "id": "NsRKGBuT_aKb"
      }
    },
    {
      "cell_type": "markdown",
      "source": [
        "**String**\n",
        "\n",
        "str = 'Say HEllow World to ME'\n",
        "\n",
        "- Q1 : Count number of letter in string\n",
        "- Q2 : find the vowels in the string\n",
        "- Q3 : Count total number of vowels in a string\n",
        "- Q4 : Find out how many times each vowel appears in a string\n",
        "\n",
        "\n"
      ],
      "metadata": {
        "id": "dBYwuhxRSny0"
      }
    },
    {
      "cell_type": "code",
      "execution_count": 11,
      "metadata": {
        "colab": {
          "base_uri": "https://localhost:8080/"
        },
        "id": "_FGKGxVi_F8H",
        "outputId": "d4a9c938-10a4-4559-dae2-f63f8e348844"
      },
      "outputs": [
        {
          "output_type": "stream",
          "name": "stdout",
          "text": [
            "13\n"
          ]
        }
      ],
      "source": [
        "# Count number of letter in string\n",
        "my_string = \"HEllow, World\"\n",
        "count = 0\n",
        "for char in my_string:\n",
        "    count += 1\n",
        "print(count)"
      ]
    },
    {
      "cell_type": "code",
      "source": [
        "# convert list into lower case\n",
        "str = 'Say HEllow World to ME'\n",
        "\n",
        "# Convert to lowercase for uniformity\n",
        "lowercase_str = str.lower()\n",
        "print(lowercase_str)\n",
        ""
      ],
      "metadata": {
        "colab": {
          "base_uri": "https://localhost:8080/"
        },
        "id": "k-9iP1q_GWZK",
        "outputId": "afd12416-d549-470c-a34b-bc1877c3d3f1"
      },
      "execution_count": 58,
      "outputs": [
        {
          "output_type": "stream",
          "name": "stdout",
          "text": [
            "say hellow world to me\n"
          ]
        }
      ]
    },
    {
      "cell_type": "code",
      "source": [
        "# find the vowels in the string\n",
        "\n",
        "str = 'Say HEllow World to ME'\n",
        "\n",
        "# Convert the string to lowercase (so vowels are matched consistently)\n",
        "lower_case = str.lower()\n",
        "\n",
        "# Define vowels\n",
        "vowels = 'aeiou'\n",
        "\n",
        "# Loop through each character in the string\n",
        "for char in lower_case:\n",
        "    # Check if the character is a vowel\n",
        "    if char in vowels:\n",
        "        # Print the vowel\n",
        "        print(char)\n"
      ],
      "metadata": {
        "colab": {
          "base_uri": "https://localhost:8080/"
        },
        "id": "TlluSagERpf3",
        "outputId": "6966e359-197d-42fe-f575-92cb505ce982"
      },
      "execution_count": 52,
      "outputs": [
        {
          "output_type": "stream",
          "name": "stdout",
          "text": [
            "a\n",
            "e\n",
            "o\n",
            "o\n",
            "o\n",
            "e\n"
          ]
        }
      ]
    },
    {
      "cell_type": "code",
      "source": [
        "# Count total number of vowels in a string\n",
        "\n",
        "# Define a string\n",
        "str = 'Say HEllow World to ME'\n",
        "\n",
        "# Convert the string to lowercase (so we don’t miss capital vowels)\n",
        "lower_case = str.lower()\n",
        "\n",
        "# Define vowels\n",
        "vowels = 'aeiou'\n",
        "\n",
        "# Initialize counter\n",
        "count = 0\n",
        "\n",
        "# Loop through each character\n",
        "for char in lower_case:\n",
        "    # If character is a vowel, increase the count\n",
        "    if char in vowels:\n",
        "        count += 1\n",
        "\n",
        "# Print total number of vowels\n",
        "print(count)\n"
      ],
      "metadata": {
        "colab": {
          "base_uri": "https://localhost:8080/"
        },
        "id": "66rT8LZSSEAg",
        "outputId": "7b384f3f-e41a-4511-a7e4-90425c7e17e0"
      },
      "execution_count": 53,
      "outputs": [
        {
          "output_type": "stream",
          "name": "stdout",
          "text": [
            "6\n"
          ]
        }
      ]
    },
    {
      "cell_type": "code",
      "source": [
        "# find out which vowel comes how many times\n",
        "\n",
        "str = 'Say HEllow World to ME'\n",
        "\n",
        "# Convert to lowercase for uniformity\n",
        "lower_case = str.lower()\n",
        "\n",
        "vowels = 'aeiou'\n",
        "\n",
        "for char in lower_case:\n",
        "  if char in vowels:\n",
        "    print(char, lower_case.count(char))"
      ],
      "metadata": {
        "colab": {
          "base_uri": "https://localhost:8080/"
        },
        "id": "XrCp2PGjQr09",
        "outputId": "45bec6e1-4fdf-4b4a-86ef-c697a31b3a45"
      },
      "execution_count": 55,
      "outputs": [
        {
          "output_type": "stream",
          "name": "stdout",
          "text": [
            "a 1\n",
            "e 2\n",
            "o 3\n",
            "o 3\n",
            "o 3\n",
            "e 2\n"
          ]
        }
      ]
    },
    {
      "cell_type": "code",
      "source": [
        "# Find out how many times each vowel appears in a string\n",
        "\n",
        "# Define a string\n",
        "str = 'Say HEllow World to ME'\n",
        "\n",
        "# Convert to lowercase (to avoid missing uppercase vowels)\n",
        "lower_case = str.lower()\n",
        "\n",
        "# Define vowels\n",
        "vowels = 'aeiou'\n",
        "\n",
        "# Loop through each vowel and count its occurrences\n",
        "for v in vowels:\n",
        "    count = lower_case.count(v)   # count occurrences of each vowel\n",
        "    if count > 0:\n",
        "        print(v, count)\n"
      ],
      "metadata": {
        "colab": {
          "base_uri": "https://localhost:8080/"
        },
        "id": "Sxzv6J_mST02",
        "outputId": "20df497b-fed5-490b-cbbf-4128167b10f8"
      },
      "execution_count": 54,
      "outputs": [
        {
          "output_type": "stream",
          "name": "stdout",
          "text": [
            "a 1\n",
            "e 2\n",
            "o 3\n"
          ]
        }
      ]
    }
  ]
}