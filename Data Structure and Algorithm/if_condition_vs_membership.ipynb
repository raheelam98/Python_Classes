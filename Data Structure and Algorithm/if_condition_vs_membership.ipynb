{
  "nbformat": 4,
  "nbformat_minor": 0,
  "metadata": {
    "colab": {
      "provenance": [],
      "authorship_tag": "ABX9TyNT1eGbqpr8wRviilHKzRs0",
      "include_colab_link": true
    },
    "kernelspec": {
      "name": "python3",
      "display_name": "Python 3"
    },
    "language_info": {
      "name": "python"
    }
  },
  "cells": [
    {
      "cell_type": "markdown",
      "metadata": {
        "id": "view-in-github",
        "colab_type": "text"
      },
      "source": [
        "<a href=\"https://colab.research.google.com/github/raheelam98/Python_Classes/blob/main/Data%20Structure%20and%20Algorithm/if_condition_vs_membership.ipynb\" target=\"_parent\"><img src=\"https://colab.research.google.com/assets/colab-badge.svg\" alt=\"Open In Colab\"/></a>"
      ]
    },
    {
      "cell_type": "markdown",
      "source": [
        "### **Python `if` vs `if with in`**\n",
        "\n",
        "#### **1. `if` Statement**\n",
        "- Used for a **single condition**.  \n",
        "- The block runs only if that condition is true.  \n",
        "\n",
        "#### **2. `if with in`**\n",
        "- Here, `in` is a **membership operator**.  \n",
        "- It checks if a value exists inside a string, list, tuple, or other iterable.  \n",
        "\n",
        "#### **Key Difference**\n",
        "- `if` → checks a **condition** (True/False).  \n",
        "- `if ... in ...` → checks if an **element exists** inside another object.  \n"
      ],
      "metadata": {
        "id": "sAAYF0B4hj11"
      }
    },
    {
      "cell_type": "markdown",
      "source": [
        "### **If Condition - Practice Questions**\n",
        "\n",
        "1. **Check Positive, Negative, or Zero**  \n",
        "   Write a program to check if a number is positive, negative, or zero.  \n",
        "\n",
        "2. **Voting Eligibility**  \n",
        "   Ask the user for their age and check if they are eligible to vote (18+).  \n",
        "\n",
        "3. **String Starts with 'A'**  \n",
        "   Given a string, check if it starts with the letter \"A\".  \n",
        "\n",
        "4. **Even or Odd Number**  \n",
        "   Write a program to check if a number is even or odd.  \n",
        "\n",
        "5. **Pass or Fail**  \n",
        "   Ask for marks and check if the grade is Pass (>=40) or Fail.  \n",
        "\n",
        "\n"
      ],
      "metadata": {
        "id": "UydMD3uWfdYc"
      }
    },
    {
      "cell_type": "code",
      "source": [
        "# if coundition :- block runs only if that condition is true.\n",
        "num = int(input('Enter any number: '))\n",
        "\n",
        "if num > 10:\n",
        "    print('Number is greater than 10 : ')"
      ],
      "metadata": {
        "colab": {
          "base_uri": "https://localhost:8080/"
        },
        "id": "clXzHLDtkGjA",
        "outputId": "3920d478-f318-4ae8-96ad-03834c04ce37"
      },
      "execution_count": null,
      "outputs": [
        {
          "name": "stdout",
          "output_type": "stream",
          "text": [
            "Enter any number: 2\n"
          ]
        }
      ]
    },
    {
      "cell_type": "code",
      "source": [
        "# if ... in ... → checks if an element exists inside another object.\n",
        "text = input('Enter a phrase : ')\n",
        "\n",
        "if 'a' in text:\n",
        "  print('Phrase has letter a')\n",
        "else:\n",
        "  print('Phrase doesnot has letter a ')\n"
      ],
      "metadata": {
        "colab": {
          "base_uri": "https://localhost:8080/"
        },
        "id": "_vKbN6gHkesQ",
        "outputId": "9550614d-41b2-4113-c5d1-b74936733590"
      },
      "execution_count": null,
      "outputs": [
        {
          "output_type": "stream",
          "name": "stdout",
          "text": [
            "Enter a phrase : apple\n",
            "Phrase has letter a\n"
          ]
        }
      ]
    },
    {
      "cell_type": "markdown",
      "source": [
        "#### **If Condition - Practice Questions - Solution**\n",
        "\n",
        "- `if` → checks a **condition** (True/False).  "
      ],
      "metadata": {
        "id": "XWFp_Pe95Lo-"
      }
    },
    {
      "cell_type": "code",
      "source": [
        "# Q1 : Write a program to check if a number is positive, negative, or zero.\n",
        "\n",
        "num = float(input('Enter any number : '))\n",
        "\n",
        "if num > 0:\n",
        "  print('The number is positive')\n",
        "elif num < 0:\n",
        "  print('The number is negative')\n",
        "else:\n",
        "  print('The nuber is zero')\n"
      ],
      "metadata": {
        "colab": {
          "base_uri": "https://localhost:8080/"
        },
        "id": "J9TV5olYnIMA",
        "outputId": "21bd5289-95d5-4ac3-a5b1-6b1374535c13"
      },
      "execution_count": null,
      "outputs": [
        {
          "output_type": "stream",
          "name": "stdout",
          "text": [
            "Enter any number : 9.9\n",
            "The number is positive\n"
          ]
        }
      ]
    },
    {
      "cell_type": "code",
      "source": [
        "# Q2 : Ask the user for their age and\n",
        "# check if they are eligible to vote (18+).\n",
        "\n",
        "name = input('Enter your name : ')\n",
        "age = int(input('Enter your age :'))\n",
        "\n",
        "if age >= 18:\n",
        "  print(f'{name} is eligible to vote ')\n",
        "else:\n",
        "  print(f'{name} is not eligible to vote')"
      ],
      "metadata": {
        "colab": {
          "base_uri": "https://localhost:8080/"
        },
        "id": "K8tYtZ2qoqqC",
        "outputId": "a2cb87e6-08d1-443b-ed13-a894b484283e"
      },
      "execution_count": null,
      "outputs": [
        {
          "output_type": "stream",
          "name": "stdout",
          "text": [
            "Enter your name : Suba\n",
            "Enter your age :22\n",
            "Suba is eligible to vote \n"
          ]
        }
      ]
    },
    {
      "cell_type": "code",
      "source": [
        "# Q3 : Given a string, check if it starts with the letter \"A\" or \"a\".\n",
        "\n",
        "str = input('Enter string : ')\n",
        "\n",
        "str = str.lower()\n",
        "if str[0] == 'a':\n",
        "  print('String starts with A')\n",
        "else:\n",
        "  print('String does not starts with A')"
      ],
      "metadata": {
        "colab": {
          "base_uri": "https://localhost:8080/"
        },
        "id": "DPbzcmZtqQIz",
        "outputId": "d6b63f24-f19e-4c99-dbaf-1cc814e7a4d8"
      },
      "execution_count": null,
      "outputs": [
        {
          "output_type": "stream",
          "name": "stdout",
          "text": [
            "Enter string : apple\n",
            "String starts with A\n"
          ]
        }
      ]
    },
    {
      "cell_type": "code",
      "source": [
        "# Q4 : Write a program to check if the number is even or odd.\n",
        "\n",
        "num = int(input('Enter any number :'))\n",
        "\n",
        "if num > 1:\n",
        "  if num % 2 == 0:\n",
        "    print(f'{num} is even number')\n",
        "  else:\n",
        "      print(f'{num} is odd number')\n",
        "else:\n",
        "  print('Number should be greater than 1')"
      ],
      "metadata": {
        "colab": {
          "base_uri": "https://localhost:8080/"
        },
        "id": "KLxRQZkA1mED",
        "outputId": "5b909a00-dc14-4d00-d2c6-dcc3376cbe56"
      },
      "execution_count": null,
      "outputs": [
        {
          "output_type": "stream",
          "name": "stdout",
          "text": [
            "Enter any number :0\n",
            "Number should be greater than 1\n"
          ]
        }
      ]
    },
    {
      "cell_type": "code",
      "source": [
        "\n",
        "num = int(input('Enter any number :'))\n",
        "\n",
        "if num > 1:\n",
        "  for num in range(2,num):\n",
        "    if num % 2 == 0:\n",
        "      print(f'{num} is even number')\n",
        "    else:\n",
        "       print(f'{num} is odd number')"
      ],
      "metadata": {
        "colab": {
          "base_uri": "https://localhost:8080/"
        },
        "id": "nDyOsXI3rz2Z",
        "outputId": "324a0936-4de3-4812-d5f3-44f817a9efcf"
      },
      "execution_count": null,
      "outputs": [
        {
          "output_type": "stream",
          "name": "stdout",
          "text": [
            "Enter any number :7\n",
            "2 is even number\n",
            "3 is odd number\n",
            "4 is even number\n",
            "5 is odd number\n",
            "6 is even number\n"
          ]
        }
      ]
    },
    {
      "cell_type": "markdown",
      "source": [
        "#### **If with in - Practice Questions - Solution**\n",
        "\n",
        "- `if ... in ...` → checks if an **element exists** inside another object.  "
      ],
      "metadata": {
        "id": "Y36yX-zH5e5O"
      }
    }
  ]
}