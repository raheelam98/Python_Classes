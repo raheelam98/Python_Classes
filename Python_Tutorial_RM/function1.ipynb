{
 "cells": [
  {
   "cell_type": "markdown",
   "metadata": {},
   "source": [
    "#### Python Function :- Builtin Functions, Defining Functions"
   ]
  },
  {
   "cell_type": "markdown",
   "metadata": {},
   "source": [
    "[Visualizing Function Calls](https://www.coursera.org/learn/learn-to-program/lecture/w0jnq/visualizing-function-calls#)"
   ]
  },
  {
   "cell_type": "markdown",
   "metadata": {},
   "source": [
    "**Builtin Function**\n",
    "\n",
    "[Python Built in Functions](https://www.w3schools.com/python/python_ref_functions.asp)\n",
    "\n",
    "'abs', 'all', 'any', 'ascii', 'bin', 'bool', 'bytearray', 'bytes', 'callable', 'chr', 'classmethod', 'compile', 'complex', 'copyright', 'credits', 'delattr', 'dict', 'dir', 'divmod', 'enumerate', 'eval', 'exec', 'exit', 'filter', 'float', 'format', 'frozenset', 'getattr', 'globals', 'hasattr', 'hash', 'help', 'hex', 'id', 'input', 'int', 'isinstance', 'issubclass', 'iter', 'len', 'license', 'list', 'locals', 'map', 'max', 'memoryview', 'min', 'next', 'object', 'oct', 'open', 'ord', 'pow', 'print', 'property', 'quit', 'range', 'repr', 'reversed', 'round', 'set', 'setattr', 'slice', 'sorted', 'staticmethod', 'str', 'sum', 'super', 'tuple', 'type', 'vars', 'zip'\n",
    "\n",
    "[Python Reference](https://www.w3schools.com/python/python_reference.asp)"
   ]
  },
  {
   "cell_type": "code",
   "execution_count": 6,
   "metadata": {},
   "outputs": [
    {
     "name": "stdout",
     "output_type": "stream",
     "text": [
      "builtin fun.. ['ArithmeticError', 'AssertionError', 'AttributeError', 'BaseException', 'BaseExceptionGroup', 'BlockingIOError', 'BrokenPipeError', 'BufferError', 'BytesWarning', 'ChildProcessError', 'ConnectionAbortedError', 'ConnectionError', 'ConnectionRefusedError', 'ConnectionResetError', 'DeprecationWarning', 'EOFError', 'Ellipsis', 'EncodingWarning', 'EnvironmentError', 'Exception', 'ExceptionGroup', 'False', 'FileExistsError', 'FileNotFoundError', 'FloatingPointError', 'FutureWarning', 'GeneratorExit', 'IOError', 'ImportError', 'ImportWarning', 'IndentationError', 'IndexError', 'InterruptedError', 'IsADirectoryError', 'KeyError', 'KeyboardInterrupt', 'LookupError', 'MemoryError', 'ModuleNotFoundError', 'NameError', 'None', 'NotADirectoryError', 'NotImplemented', 'NotImplementedError', 'OSError', 'OverflowError', 'PendingDeprecationWarning', 'PermissionError', 'ProcessLookupError', 'RecursionError', 'ReferenceError', 'ResourceWarning', 'RuntimeError', 'RuntimeWarning', 'StopAsyncIteration', 'StopIteration', 'SyntaxError', 'SyntaxWarning', 'SystemError', 'SystemExit', 'TabError', 'TimeoutError', 'True', 'TypeError', 'UnboundLocalError', 'UnicodeDecodeError', 'UnicodeEncodeError', 'UnicodeError', 'UnicodeTranslateError', 'UnicodeWarning', 'UserWarning', 'ValueError', 'Warning', 'ZeroDivisionError', 'abs', 'aiter', 'all', 'anext', 'any', 'ascii', 'bin', 'bool', 'breakpoint', 'bytearray', 'bytes', 'callable', 'chr', 'classmethod', 'compile', 'complex', 'copyright', 'credits', 'delattr', 'dict', 'dir', 'display', 'divmod', 'enumerate', 'eval', 'exec', 'execfile', 'filter', 'float', 'format', 'frozenset', 'get_ipython', 'getattr', 'globals', 'hasattr', 'hash', 'help', 'hex', 'id', 'input', 'int', 'isinstance', 'issubclass', 'iter', 'len', 'license', 'list', 'locals', 'map', 'max', 'memoryview', 'min', 'next', 'object', 'oct', 'open', 'ord', 'pow', 'print', 'property', 'range', 'repr', 'reversed', 'round', 'runfile', 'set', 'setattr', 'slice', 'sorted', 'staticmethod', 'str', 'sum', 'super', 'tuple', 'type', 'vars', 'zip']\n"
     ]
    }
   ],
   "source": [
    "builtins_fun = [i for i in dir(__builtins__) if '__' not in i ]\n",
    "print('builtin fun..', builtins_fun)"
   ]
  },
  {
   "cell_type": "code",
   "execution_count": 1,
   "metadata": {},
   "outputs": [
    {
     "name": "stdout",
     "output_type": "stream",
     "text": [
      "pow 32\n"
     ]
    }
   ],
   "source": [
    "#pow(x,y)   -----> two arguments, equivalent to x**y\n",
    "result_two_arguments = pow(2, 5)\n",
    "print('pow', result_two_arguments) # output : pow 32"
   ]
  },
  {
   "cell_type": "code",
   "execution_count": 9,
   "metadata": {},
   "outputs": [
    {
     "name": "stdout",
     "output_type": "stream",
     "text": [
      "pow 2\n"
     ]
    }
   ],
   "source": [
    "#pow(x,y)   -----> three arguments, equivalent to (x**y) % z\n",
    "result_three_arguments = pow(2, 5, 3)\n",
    "print('pow', result_three_arguments)  # output : pow 2"
   ]
  },
  {
   "cell_type": "markdown",
   "metadata": {},
   "source": [
    "**define function**\n",
    "\n",
    "def function_name(parameter1, ...) -> number :\n",
    "\n",
    "    #statement (body of statement)\n",
    "    \n",
    "    return expression\n",
    "\n",
    "**call funtion**\n",
    "\n",
    "function_name(argument1, ....) \n",
    "\n",
    "**store function result into memory address**\n",
    "\n",
    "result = function_name(argument1, ....) \n",
    "\n",
    "**note** An argument is a value given to a function.  To determine how many arguments should be given, look at the number of parameters  in the function header.  Optional parameters are indicated with square brackets."
   ]
  },
  {
   "cell_type": "code",
   "execution_count": 15,
   "metadata": {},
   "outputs": [
    {
     "name": "stdout",
     "output_type": "stream",
     "text": [
      "fun double ...  16\n",
      "fun type .. <class 'function'>\n",
      "result_fun 9\n",
      "result_fun .. <class 'int'>\n"
     ]
    }
   ],
   "source": [
    "# The function double is defined and returns twice the value of x\n",
    "#define function\n",
    "def fun(x):\n",
    "    return x ** 2\n",
    "\n",
    "# call function\n",
    "print('fun double ... ', fun(4))  # output:- fun double 16\n",
    "print('fun type ..',type(fun))    # output:-  fun type  <class 'function'>\n",
    "\n",
    "# store function result into memory address\n",
    "result_fun = fun(3)\n",
    "print('result_fun', result_fun) # output:- result_fun 9\n",
    "print('result_fun ..',  type(result_fun)  )"
   ]
  },
  {
   "cell_type": "code",
   "execution_count": null,
   "metadata": {},
   "outputs": [
    {
     "name": "stdout",
     "output_type": "stream",
     "text": [
      "area of triangle :- (base x height) /2 \n",
      "area of triangle ... 6.0\n",
      "area of triangle ... 6.6\n"
     ]
    }
   ],
   "source": [
    "print('area of triangle :- (base * height) /2 ')\n",
    "def area(base, height):\n",
    "    return base * height / 2\n",
    "\n",
    "print('area of triangle ...' , area(6,2) )\n",
    "\n",
    "print('area of triangle ...' , area(4,3.3) )"
   ]
  },
  {
   "cell_type": "code",
   "execution_count": 6,
   "metadata": {},
   "outputs": [
    {
     "name": "stdout",
     "output_type": "stream",
     "text": [
      "round(45.8)... 46\n",
      "round(45)... 45\n",
      "x = 12 / 4  :-  3.0\n",
      "x = 12 // 4 :-  3\n",
      "x 5\n",
      "y 5\n",
      "36520347436056576\n",
      "<function even_bigger at 0x105057d80>\n"
     ]
    }
   ],
   "source": [
    "print('round(45.8)...',  round(45.8))\n",
    "print('round(45)...',  round(45))\n",
    "# round() TypeError: round() missing required argument 'number' (pos 1)\n",
    "\n",
    "x = 12 / 4\n",
    "print( 'x = 12 / 4  :- ', x )\n",
    "\n",
    "x = 12 // 4\n",
    "print( 'x = 12 // 4 :- ', x )\n",
    "\n",
    "x = 3\n",
    "y = 5\n",
    "x = y\n",
    "print('x', x)\n",
    "print('y', y)\n",
    "\n",
    "#apple = banana  NameError: name 'banana' is not defined\n",
    "\n",
    "def even_bigger(x):\n",
    "    return (2 * x) ** x\n",
    "\n",
    "print(even_bigger(12)) \n",
    "print(even_bigger)\n"
   ]
  },
  {
   "cell_type": "code",
   "execution_count": 11,
   "metadata": {},
   "outputs": [
    {
     "data": {
      "text/plain": [
       "0.5555555555555556"
      ]
     },
     "execution_count": 11,
     "metadata": {},
     "output_type": "execute_result"
    }
   ],
   "source": [
    "## function has one parameter representing a temperature in Fahrenheit and returns that temperature in Celsius.\n",
    "def convert_to_celsius(fahrenheit):\n",
    "    # Return the number of Celsius degrees equivalent to fahrenheit degrees.\n",
    "    return (fahrenheit - 32) * 5 / 9\n",
    "\n",
    "# convert_to_celsius(32)  # output:- 0.0\n",
    "# convert_to_celsius(212) # output:- 100.0\n",
    "\n",
    "def colder_temperature(temp1, temp2):\n",
    "    '''(number, number) -> number\n",
    "    Return the colder of the two temperatures, temp1 (degrees Celsius)\n",
    "    and temp2 (degrees Fahrenheit), in degrees Celsius.\n",
    "    '''\n",
    "    temp2_celsius = convert_to_celsius(temp2)\n",
    "    return min(temp1, temp2_celsius)\n",
    "\n",
    "colder_temperature(60, 33)\n",
    "#print(\"value change test\", colder_temperature)\n",
    "   "
   ]
  },
  {
   "cell_type": "code",
   "execution_count": 13,
   "metadata": {},
   "outputs": [
    {
     "data": {
      "text/plain": [
       "(12, 8, 3.5)"
      ]
     },
     "execution_count": 13,
     "metadata": {},
     "output_type": "execute_result"
    }
   ],
   "source": [
    "#  Calculate the semi-perimeter of a triangle.\n",
    "\n",
    "def semiperimeter(side1, side2, side3):\n",
    "    return (side1, side2, side3 / 2)\n",
    "\n",
    "semiperimeter(12, 8, 7)"
   ]
  },
  {
   "cell_type": "code",
   "execution_count": 14,
   "metadata": {},
   "outputs": [
    {
     "name": "stdout",
     "output_type": "stream",
     "text": [
      "minutes_1 120\n",
      "second_1 14400\n"
     ]
    }
   ],
   "source": [
    "# convert into minutes\n",
    "\n",
    "def convert_to_minutes(num_hours):\n",
    "    minutes_result = num_hours * 60\n",
    "    return minutes_result\n",
    "\n",
    "minutes_1 = convert_to_minutes(2)\n",
    "print( 'minutes_1' ,minutes_1)\n",
    "\n",
    "def conver_to_seconds(num_hours):\n",
    "    return convert_to_minutes(num_hours) * 60\n",
    "\n",
    "second_1 = conver_to_seconds(4)\n",
    "print('second_1', second_1)"
   ]
  }
 ],
 "metadata": {
  "kernelspec": {
   "display_name": "virtual-env",
   "language": "python",
   "name": "virtual-env"
  },
  "language_info": {
   "codemirror_mode": {
    "name": "ipython",
    "version": 3
   },
   "file_extension": ".py",
   "mimetype": "text/x-python",
   "name": "python",
   "nbconvert_exporter": "python",
   "pygments_lexer": "ipython3",
   "version": "3.12.0"
  }
 },
 "nbformat": 4,
 "nbformat_minor": 2
}
