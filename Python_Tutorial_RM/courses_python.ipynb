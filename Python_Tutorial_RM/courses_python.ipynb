{
 "cells": [
  {
   "cell_type": "markdown",
   "metadata": {},
   "source": [
    "[Learn to Program: The Fundamentals - University of Toronto](https://www.coursera.org/learn/learn-to-program/home/module/1)"
   ]
  },
  {
   "cell_type": "markdown",
   "metadata": {},
   "source": [
    "**memory address**\n",
    "\n",
    "<div style=\"text-align: center;\">\n",
    "    <img alt=\"\" src=\"./images/python_computer_memory.png\" width=\"400px\"></img>\n",
    "</div>\n",
    "\n",
    "**variables memory**\n",
    "\n",
    "<div style=\"text-align: center;\">\n",
    "    <img alt=\"\" src=\"./images/variable_memory.png\" width=\"400px\"></img>\n",
    "</div>"
   ]
  }
 ],
 "metadata": {
  "language_info": {
   "name": "python"
  }
 },
 "nbformat": 4,
 "nbformat_minor": 2
}
