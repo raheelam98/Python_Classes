{
 "cells": [
  {
   "cell_type": "markdown",
   "metadata": {},
   "source": [
    "### string"
   ]
  },
  {
   "cell_type": "code",
   "execution_count": 11,
   "metadata": {},
   "outputs": [
    {
     "name": "stdout",
     "output_type": "stream",
     "text": [
      "bananamuffin\n"
     ]
    }
   ],
   "source": [
    "result = (\"ba\" + \"na\" * 2 + \"muffin\")\n",
    "print(result)"
   ]
  },
  {
   "cell_type": "markdown",
   "metadata": {},
   "source": [
    "**String Operators**\n",
    "\n",
    "| Expression      |  Description                    | Example                | Output        |\n",
    "|:----------------|:-------------------------------:|:----------------------:|-------------: |\n",
    "| **str1 + str2** | concatenate str1 and str1       | 'print('ab' + 'c')'    | **abc**       |      \n",
    "| **str1 * int1** | int1 copies of str1             | 'print('a' * 5')'      | **aaaaa**     |  \n",
    "| **int1 * str1** | concatenate int1 copies of str1 | 'print(4 * 'bc')'      | **bcbcbcbc**  |\n",
    "\n",
    "_concatenate_ means to join together"
   ]
  },
  {
   "cell_type": "markdown",
   "metadata": {},
   "source": [
    "**Escape Sequences**\n",
    "\n",
    "| Escape Sequenc |  Name                           | Example                    | Output        |\n",
    "|:---------------|:-------------------------------:|:--------------------------:|-------------: |\n",
    "| **\\n**         | newline (ASCII linefeed - LF)    | print('''How              | How           |\n",
    "|                |                                  | are                       | are           |\n",
    "|                |                                  | you?''')                  | you?          |      \n",
    "| **\\t**         | tab (ASCII horizontal tab - TAB) | print('3\\t4\\t5')          | 3   4       5 |  \n",
    "| **\\\\**         | backslash (\\)                    | print('\\\\')               | \\             |\n",
    "| **\\'**         | single quote (')                 | print('don\\'t')           | don't         |      \n",
    "| **\\\"**         | double quote (\")                 | print(\"He says, \\\"hi\\\".\") | He says, \"hi\".|  \n",
    "\n"
   ]
  },
  {
   "cell_type": "code",
   "execution_count": 12,
   "metadata": {},
   "outputs": [
    {
     "name": "stdout",
     "output_type": "stream",
     "text": [
      "escape sequence  Wow, you're dripping wet.\n",
      " use a double-quoted    Wow, you're dripping wet.\n"
     ]
    }
   ],
   "source": [
    "## Type str\n",
    "## escape sequence \\' indicates that the second quote is simply a quote\n",
    "storm_greeting1 = 'Wow, you\\'re dripping wet.'\n",
    "print(\"escape sequence : \", storm_greeting1)\n",
    "\n",
    "storm_greeting2 = \"Wow, you're dripping wet.\"\n",
    "print('use a double-quoted :  ',storm_greeting2)"
   ]
  },
  {
   "cell_type": "markdown",
   "metadata": {},
   "source": [
    "**Input/Output and str Formatting**\n",
    "\n",
    "When a function does not have a return statement that gets executed, Python will return None\n",
    "\n",
    "Remember that the print function only prints a value onto the screen. A function that does not have a return statement returns None."
   ]
  },
  {
   "cell_type": "code",
   "execution_count": 20,
   "metadata": {},
   "outputs": [
    {
     "name": "stdout",
     "output_type": "stream",
     "text": [
      "4\n",
      "result_print :- None\n",
      "new_result :-  5\n",
      "result 4\n"
     ]
    }
   ],
   "source": [
    "## When a function does not have a return statement that gets executed, Python will return None\n",
    "\n",
    "def add1(number1, number2):\n",
    "    print(number1 + number2)\n",
    "\n",
    "result_print = add1(1, 3)             # output : 4\n",
    "#new_result = result + 1              # TypeError:\n",
    "print('result_print :-', result_print) # output : None\n",
    "\n",
    "def add2(number1, number2):\n",
    "    return number1 + number2\n",
    "\n",
    "result = add2(1, 3)\n",
    "new_result = result + 1\n",
    "print('new_result :- ', new_result) # output:- new_result :  5\n",
    "## new_result refers to the value 5\n",
    "\n",
    "def add3(number1, number2):\n",
    "    return number1 + number2\n",
    "    print(\"hello\")\n",
    "result = add3(1, 3)\n",
    "'''\n",
    "What is printed by the code above?\n",
    "Nothing.  The function exits when the return statement is executed, \n",
    "so the print function call is never reached.    \n",
    "'''\n",
    "print('result', result)\n",
    "\n",
    "## Nothing.  In Python, None is used to represent nothing\n",
    "def add(number1, number2):\n",
    "    print(number1 + number2)\n",
    "\n",
    "result = add(1, 3)\n"
   ]
  },
  {
   "cell_type": "code",
   "execution_count": 3,
   "metadata": {},
   "outputs": [
    {
     "name": "stdout",
     "output_type": "stream",
     "text": [
      "Username is: raheela\n"
     ]
    }
   ],
   "source": [
    "username = input(\"Enter username:\")\n",
    "print(\"Username is: \" + username)"
   ]
  },
  {
   "cell_type": "code",
   "execution_count": 4,
   "metadata": {},
   "outputs": [
    {
     "name": "stdout",
     "output_type": "stream",
     "text": [
      "\\n is the newline character in Python\n"
     ]
    }
   ],
   "source": [
    "print(\"\\\\n is the newline character in Python\")"
   ]
  }
 ],
 "metadata": {
  "kernelspec": {
   "display_name": "Python 3",
   "language": "python",
   "name": "python3"
  },
  "language_info": {
   "codemirror_mode": {
    "name": "ipython",
    "version": 3
   },
   "file_extension": ".py",
   "mimetype": "text/x-python",
   "name": "python",
   "nbconvert_exporter": "python",
   "pygments_lexer": "ipython3",
   "version": "3.12.0"
  }
 },
 "nbformat": 4,
 "nbformat_minor": 2
}
