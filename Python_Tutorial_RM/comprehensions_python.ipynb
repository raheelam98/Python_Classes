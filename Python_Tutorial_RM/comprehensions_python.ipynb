{
 "cells": [
  {
   "cell_type": "markdown",
   "metadata": {},
   "source": [
    "### Comprehensions in Python\n",
    "\n",
    " 4 types of comprehension:\n",
    "* List Comprehensions\n",
    "* Dictionary Comprehensions\n",
    "* Set Comprehensions\n",
    "* Generator Comprehensions\n",
    "\n",
    "[Comprehensions in Python - greeks](https://www.geeksforgeeks.org/comprehensions-in-python/)"
   ]
  },
  {
   "cell_type": "markdown",
   "metadata": {},
   "source": []
  },
  {
   "cell_type": "markdown",
   "metadata": {},
   "source": [
    "#### List Comprehensions\n",
    "List Comprehensions provide an elegant way to create new lists.\n",
    "\n",
    "[Python List Comprehension Syntax - greeks](https://www.geeksforgeeks.org/python-list-comprehension/)\n",
    "\n",
    "`newList = [ expression(element) for element in oldList if condition ]` \n",
    "\n",
    "`output_list = [output_exp for var  in input_list if (var satisfies this condition)]`\n",
    "\n",
    "[Python - List Comprehension - www.w3schools](https://www.w3schools.com/python/python_lists_comprehension.asp)\n",
    "\n",
    "`newlist = [expression for item in iterable if condition == True]`\n",
    "\n",
    "[Syntax of List Comprehension - programiz](https://www.programiz.com/python-programming/list-comprehension)\n",
    "\n",
    "`[expression for item in list if condition == True]`"
   ]
  },
  {
   "cell_type": "code",
   "execution_count": 2,
   "metadata": {},
   "outputs": [
    {
     "name": "stdout",
     "output_type": "stream",
     "text": [
      "Output List using list comprehensions: [2, 4, 4, 6]\n"
     ]
    }
   ],
   "source": [
    "input_list1 = [1, 2, 3, 4, 4, 5, 6, 7, 7]\n",
    "list_using_comp = [var for var in input_list1 if var % 2 == 0]\n",
    "print(\"Output List using list comprehensions:\",list_using_comp)"
   ]
  }
 ],
 "metadata": {
  "kernelspec": {
   "display_name": "virtual-env",
   "language": "python",
   "name": "virtual-env"
  },
  "language_info": {
   "codemirror_mode": {
    "name": "ipython",
    "version": 3
   },
   "file_extension": ".py",
   "mimetype": "text/x-python",
   "name": "python",
   "nbconvert_exporter": "python",
   "pygments_lexer": "ipython3",
   "version": "3.12.0"
  }
 },
 "nbformat": 4,
 "nbformat_minor": 2
}
