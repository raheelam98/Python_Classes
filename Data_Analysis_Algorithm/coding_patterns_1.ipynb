{
  "nbformat": 4,
  "nbformat_minor": 0,
  "metadata": {
    "colab": {
      "provenance": [],
      "authorship_tag": "ABX9TyPb+MubwvZ0JCXxl7nNg5jp",
      "include_colab_link": true
    },
    "kernelspec": {
      "name": "python3",
      "display_name": "Python 3"
    },
    "language_info": {
      "name": "python"
    }
  },
  "cells": [
    {
      "cell_type": "markdown",
      "metadata": {
        "id": "view-in-github",
        "colab_type": "text"
      },
      "source": [
        "<a href=\"https://colab.research.google.com/github/raheelam98/Python_Classes/blob/main/Data_Analysis_Algorithm/coding_patterns_1.ipynb\" target=\"_parent\"><img src=\"https://colab.research.google.com/assets/colab-badge.svg\" alt=\"Open In Colab\"/></a>"
      ]
    },
    {
      "cell_type": "markdown",
      "source": [
        "#### **Coding Patterns Detail**\n",
        "\n",
        "These are the most common **problem-solving patterns** in Data Structures & Algorithms (DSA) and coding interviews.  \n",
        "They provide reusable approaches to solve a wide variety of problems efficiently.\n",
        "\n",
        "#### 1. Sliding Window\n",
        "Used for problems involving subarrays or substrings by maintaining a moving \"window\" over data.  \n",
        "**Example:** Maximum sum of subarray of size K.\n",
        "\n",
        "#### 2. Two Pointer\n",
        "Uses two pointers moving at different speeds or directions to reduce complexity.  \n",
        "**Example:** Check if an array has a pair that sums to a target.\n",
        "\n",
        "#### 3. Modified Binary Search\n",
        "Adapts binary search logic for problems beyond exact match.  \n",
        "**Example:** Find first or last occurrence of a number in a sorted array.\n",
        "\n",
        "#### 4. Binary Tree BFS\n",
        "Traverses a binary tree level by level using a queue.  \n",
        "**Example:** Find shortest path in a binary tree.\n",
        "\n",
        "#### 5. Binary Tree DFS\n",
        "Traverses a binary tree depth-first (Preorder, Inorder, Postorder).  \n",
        "**Example:** Validate if a binary tree is a BST.\n",
        "\n",
        "#### 6. Top K Elements\n",
        "Finds the largest, smallest, or most frequent K elements using heaps/priority queues.  \n",
        "**Example:** Top K frequent words in a list.\n",
        "\n",
        "#### 7. Subset\n",
        "Generates all subsets or combinations of elements (power set problems).  \n",
        "**Example:** Generate all subsets of a set of numbers.\n",
        "\n",
        "#### 8. Topological Sort\n",
        "Orders nodes in a Directed Acyclic Graph (DAG) while respecting dependencies.  \n",
        "**Example:** Task scheduling with prerequisites.\n",
        "\n",
        "#### 9. Fast & Slow Pointer\n",
        "Uses two pointers at different speeds to detect cycles or find midpoints.  \n",
        "**Example:** Detect a cycle in a linked list.\n",
        "\n",
        "#### 10. Backtracking\n",
        "Recursively builds solutions, undoing steps when needed (try-and-error approach).  \n",
        "**Example:** Solve Sudoku or N-Queens problem.\n",
        "\n",
        "---"
      ],
      "metadata": {
        "id": "2GCUo7afsAHa"
      }
    },
    {
      "cell_type": "code",
      "execution_count": 1,
      "metadata": {
        "colab": {
          "base_uri": "https://localhost:8080/"
        },
        "id": "AoBH6pskr4cy",
        "outputId": "502b3983-ed6e-41d8-c557-28fcc1d94127"
      },
      "outputs": [
        {
          "output_type": "stream",
          "name": "stdout",
          "text": [
            "9\n"
          ]
        }
      ],
      "source": [
        "# 1. Sliding Window\n",
        "# Used for problems involving subarrays or substrings by maintaining a moving \"window\" over data.\n",
        "# Example: Maximum sum of subarray of size K.\n",
        "\n",
        "def max_subarray_sum(arr, k):\n",
        "    window_sum = sum(arr[:k])\n",
        "    max_sum = window_sum\n",
        "    for i in range(k, len(arr)):\n",
        "        window_sum += arr[i] - arr[i-k]\n",
        "        max_sum = max(max_sum, window_sum)\n",
        "    return max_sum\n",
        "\n",
        "print(max_subarray_sum([2,1,5,1,3,2], 3))"
      ]
    },
    {
      "cell_type": "code",
      "source": [
        "# 2. Two Pointer\n",
        "# Uses two pointers moving at different speeds or directions to reduce complexity.\n",
        "# Example: Check if an array has a pair that sums to a target.\n",
        "\n",
        "def has_pair(arr, target):\n",
        "    arr.sort()\n",
        "    l, r = 0, len(arr)-1\n",
        "    while l < r:\n",
        "        s = arr[l] + arr[r]\n",
        "        if s == target: return True\n",
        "        if s < target: l += 1\n",
        "        else: r -= 1\n",
        "    return False\n",
        "\n",
        "print(has_pair([1,4,7,2,9], 11))  # True\n"
      ],
      "metadata": {
        "id": "dZTinIw-sa8F"
      },
      "execution_count": null,
      "outputs": []
    },
    {
      "cell_type": "code",
      "source": [
        "# 3. Modified Binary Search\n",
        "\n",
        "# Adapts binary search logic for problems beyond exact match.\n",
        "# Example: Find first occurrence of a number in a sorted array.\n",
        "\n",
        "def first_occurrence(arr, target):\n",
        "    l, r, ans = 0, len(arr)-1, -1\n",
        "    while l <= r:\n",
        "        mid = (l+r)//2\n",
        "        if arr[mid] == target:\n",
        "            ans = mid\n",
        "            r = mid - 1  # keep searching left\n",
        "        elif arr[mid] < target:\n",
        "            l = mid + 1\n",
        "        else:\n",
        "            r = mid - 1\n",
        "    return ans\n",
        "\n",
        "print(first_occurrence([1,2,2,2,3,4], 2))  # 1\n"
      ],
      "metadata": {
        "colab": {
          "base_uri": "https://localhost:8080/"
        },
        "id": "W7KErhN2s4NB",
        "outputId": "ac470a50-2553-4239-cc28-5df07d176b37"
      },
      "execution_count": 2,
      "outputs": [
        {
          "output_type": "stream",
          "name": "stdout",
          "text": [
            "1\n"
          ]
        }
      ]
    },
    {
      "cell_type": "code",
      "source": [
        "# 4. Binary Tree BFS\n",
        "\n",
        "# Traverses a binary tree level by level using a queue.\n",
        "# Example: Print level order.\n",
        "\n",
        "from collections import deque\n",
        "\n",
        "class Node:\n",
        "    def __init__(self,val):\n",
        "        self.val = val\n",
        "        self.left = self.right = None\n",
        "\n",
        "def bfs(root):\n",
        "    q = deque([root])\n",
        "    res = []\n",
        "    while q:\n",
        "        node = q.popleft()\n",
        "        res.append(node.val)\n",
        "        if node.left: q.append(node.left)\n",
        "        if node.right: q.append(node.right)\n",
        "    return res\n",
        "\n",
        "root = Node(1); root.left = Node(2); root.right = Node(3)\n",
        "print(bfs(root))  # [1, 2, 3]\n"
      ],
      "metadata": {
        "colab": {
          "base_uri": "https://localhost:8080/"
        },
        "id": "7JeDrTVUtGPj",
        "outputId": "dcf2054e-3489-4ac2-aa9f-faba1edd5b4c"
      },
      "execution_count": 3,
      "outputs": [
        {
          "output_type": "stream",
          "name": "stdout",
          "text": [
            "[1, 2, 3]\n"
          ]
        }
      ]
    },
    {
      "cell_type": "code",
      "source": [
        "# 5. Binary Tree DFS\n",
        "\n",
        "# Traverses a binary tree depth-first (Preorder, Inorder, Postorder).\n",
        "# Example: Inorder traversal.\n",
        "\n",
        "def inorder(root):\n",
        "    return inorder(root.left) + [root.val] + inorder(root.right) if root else []\n",
        "\n",
        "root = Node(1); root.left = Node(2); root.right = Node(3)\n",
        "print(inorder(root))  # [2, 1, 3]\n"
      ],
      "metadata": {
        "colab": {
          "base_uri": "https://localhost:8080/"
        },
        "id": "B116jI_4tS32",
        "outputId": "092878e3-c019-449b-f80e-4872687c903d"
      },
      "execution_count": 4,
      "outputs": [
        {
          "output_type": "stream",
          "name": "stdout",
          "text": [
            "[2, 1, 3]\n"
          ]
        }
      ]
    },
    {
      "cell_type": "code",
      "source": [
        "# 6. Top K Elements\n",
        "\n",
        "# Finds the largest, smallest, or most frequent K elements using heaps.\n",
        "# Example: Top K frequent words.\n",
        "\n",
        "import heapq\n",
        "from collections import Counter\n",
        "\n",
        "def top_k_words(words, k):\n",
        "    freq = Counter(words)\n",
        "    return [w for w,_ in heapq.nlargest(k, freq.items(), key=lambda x: x[1])]\n",
        "\n",
        "print(top_k_words([\"a\",\"b\",\"a\",\"c\",\"a\",\"b\"], 2))  # ['a','b']\n"
      ],
      "metadata": {
        "colab": {
          "base_uri": "https://localhost:8080/"
        },
        "id": "l-fX1mHctaDY",
        "outputId": "1aba27a6-8723-46cd-ea22-019967720c90"
      },
      "execution_count": 5,
      "outputs": [
        {
          "output_type": "stream",
          "name": "stdout",
          "text": [
            "['a', 'b']\n"
          ]
        }
      ]
    },
    {
      "cell_type": "code",
      "source": [
        "# 7. Subset\n",
        "\n",
        "# Generates all subsets or combinations of elements.\n",
        "# Example: Generate all subsets of numbers.\n",
        "\n",
        "def subsets(nums):\n",
        "    res = [[]]\n",
        "    for n in nums:\n",
        "        res += [curr+[n] for curr in res]\n",
        "    return res\n",
        "\n",
        "print(subsets([1,2]))  # [[], [1], [2], [1,2]]\n"
      ],
      "metadata": {
        "colab": {
          "base_uri": "https://localhost:8080/"
        },
        "id": "jwkSzHj0tkg9",
        "outputId": "40019905-71ff-4cda-8e13-e78bbb8b6764"
      },
      "execution_count": 6,
      "outputs": [
        {
          "output_type": "stream",
          "name": "stdout",
          "text": [
            "[[], [1], [2], [1, 2]]\n"
          ]
        }
      ]
    },
    {
      "cell_type": "code",
      "source": [
        "# 8. Topological Sort\n",
        "\n",
        "# Orders nodes in a DAG while respecting dependencies.\n",
        "# Example: Course scheduling.\n",
        "\n",
        "from collections import deque\n",
        "\n",
        "def topo_sort(vertices, edges):\n",
        "    graph = {v:[] for v in range(vertices)}\n",
        "    indegree = [0]*vertices\n",
        "    for u,v in edges:\n",
        "        graph[u].append(v)\n",
        "        indegree[v]+=1\n",
        "    q = deque([i for i in range(vertices) if indegree[i]==0])\n",
        "    res=[]\n",
        "    while q:\n",
        "        node=q.popleft()\n",
        "        res.append(node)\n",
        "        for nei in graph[node]:\n",
        "            indegree[nei]-=1\n",
        "            if indegree[nei]==0: q.append(nei)\n",
        "    return res\n",
        "\n",
        "print(topo_sort(4, [(0,1),(1,2),(0,2),(2,3)]))  # [0,1,2,3]\n"
      ],
      "metadata": {
        "colab": {
          "base_uri": "https://localhost:8080/"
        },
        "id": "6djBOVmittdz",
        "outputId": "e203cfb0-fe6e-4a95-838a-e0ae78762c78"
      },
      "execution_count": 7,
      "outputs": [
        {
          "output_type": "stream",
          "name": "stdout",
          "text": [
            "[0, 1, 2, 3]\n"
          ]
        }
      ]
    },
    {
      "cell_type": "code",
      "source": [
        "# 9. Fast & Slow Pointer\n",
        "\n",
        "# Uses two pointers at different speeds to detect cycles or find midpoints.\n",
        "# Example: Detect cycle in linked list.\n",
        "\n",
        "class ListNode:\n",
        "    def __init__(self,val):\n",
        "        self.val=val; self.next=None\n",
        "\n",
        "def has_cycle(head):\n",
        "    slow, fast = head, head\n",
        "    while fast and fast.next:\n",
        "        slow=slow.next\n",
        "        fast=fast.next.next\n",
        "        if slow==fast: return True\n",
        "    return False\n"
      ],
      "metadata": {
        "id": "VQByaMvst0yL"
      },
      "execution_count": 9,
      "outputs": []
    },
    {
      "cell_type": "code",
      "source": [
        "# 10. Backtracking\n",
        "\n",
        "# Recursively builds solutions, undoing steps when needed.\n",
        "# Example: N-Queens.\n",
        "\n",
        "def solve_n_queens(n):\n",
        "    res=[]\n",
        "    board=[\".\"*n for _ in range(n)]\n",
        "    def backtrack(r,cols,diags,anti):\n",
        "        if r==n:\n",
        "            res.append(board[:]); return\n",
        "        for c in range(n):\n",
        "            if c in cols or r-c in diags or r+c in anti: continue\n",
        "            row=list(board[r]); row[c]=\"Q\"; board[r]=\"\".join(row)\n",
        "            backtrack(r+1,cols|{c},diags|{r-c},anti|{r+c})\n",
        "            board[r]=\".\"*n\n",
        "    backtrack(0,set(),set(),set())\n",
        "    return res\n",
        "\n",
        "print(len(solve_n_queens(4)))  # 2\n"
      ],
      "metadata": {
        "colab": {
          "base_uri": "https://localhost:8080/"
        },
        "id": "xMfxwtRzuAeI",
        "outputId": "b8829a76-3ed1-4980-839c-e11eb6239155"
      },
      "execution_count": 10,
      "outputs": [
        {
          "output_type": "stream",
          "name": "stdout",
          "text": [
            "2\n"
          ]
        }
      ]
    }
  ]
}