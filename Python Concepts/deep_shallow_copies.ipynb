{
  "nbformat": 4,
  "nbformat_minor": 0,
  "metadata": {
    "colab": {
      "provenance": [],
      "authorship_tag": "ABX9TyOxoW/Il06v8S4Q5ko7ZR9j",
      "include_colab_link": true
    },
    "kernelspec": {
      "name": "python3",
      "display_name": "Python 3"
    },
    "language_info": {
      "name": "python"
    }
  },
  "cells": [
    {
      "cell_type": "markdown",
      "metadata": {
        "id": "view-in-github",
        "colab_type": "text"
      },
      "source": [
        "<a href=\"https://colab.research.google.com/github/raheelam98/Python_Classes/blob/main/Python%20Concepts/deep_shallow_copies.ipynb\" target=\"_parent\"><img src=\"https://colab.research.google.com/assets/colab-badge.svg\" alt=\"Open In Colab\"/></a>"
      ]
    },
    {
      "cell_type": "markdown",
      "source": [
        "## **Deep vs Shallow Copies in Python**\n",
        "\n",
        "[Deep vs Shallow Copies in Python - Real Python](https://realpython.com/courses/deep-vs-shallow-copies/)"
      ],
      "metadata": {
        "id": "xS2G6bX-9SgG"
      }
    },
    {
      "cell_type": "code",
      "source": [],
      "metadata": {
        "id": "vyieH2OG9SII"
      },
      "execution_count": null,
      "outputs": []
    },
    {
      "cell_type": "code",
      "execution_count": null,
      "metadata": {
        "id": "1XMrTzpP9DxV"
      },
      "outputs": [],
      "source": []
    }
  ]
}