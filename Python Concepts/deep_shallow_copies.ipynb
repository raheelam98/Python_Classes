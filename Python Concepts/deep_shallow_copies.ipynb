{
  "nbformat": 4,
  "nbformat_minor": 0,
  "metadata": {
    "colab": {
      "provenance": [],
      "authorship_tag": "ABX9TyMfYNWCnMtDiiOou/8bbtmL",
      "include_colab_link": true
    },
    "kernelspec": {
      "name": "python3",
      "display_name": "Python 3"
    },
    "language_info": {
      "name": "python"
    }
  },
  "cells": [
    {
      "cell_type": "markdown",
      "metadata": {
        "id": "view-in-github",
        "colab_type": "text"
      },
      "source": [
        "<a href=\"https://colab.research.google.com/github/raheelam98/Python_Classes/blob/main/Python%20Concepts/deep_shallow_copies.ipynb\" target=\"_parent\"><img src=\"https://colab.research.google.com/assets/colab-badge.svg\" alt=\"Open In Colab\"/></a>"
      ]
    },
    {
      "cell_type": "markdown",
      "source": [
        "## **Deep vs Shallow Copies in Python**\n",
        "\n",
        "[Deep vs Shallow Copies in Python - Real Python](https://realpython.com/courses/deep-vs-shallow-copies/)\n",
        "\n",
        "<a href=\"https://realpython.com/courses/deep-vs-shallow-copies/\" target=\"_blank\">Deep vs Shallow Copies in Python - Real Python</a>\n",
        "\n"
      ],
      "metadata": {
        "id": "xS2G6bX-9SgG"
      }
    },
    {
      "cell_type": "markdown",
      "source": [
        "## **Characteristics of Python Objects**\n",
        "\n",
        "Objects in Python can be:\n",
        "\n",
        "### **Scalar or Composite**\n",
        "- Scalar data types represent indivisible, atomic values  \n",
        "- Composite data types are containers made up of other elements  \n",
        "\n",
        "### **Mutable or Immutable**\n",
        "- Mutable objects can be altered after creation  \n",
        "- Immutable objects are unchangeable and read-only once defined  \n",
        "\n",
        "\n",
        "|              | Scalar                 | Composite            |\n",
        "|--------------|------------------------|----------------------|\n",
        "| **Mutable**   | Not built-in           | list, dict, set      |\n",
        "| **Immutable** | int, float, bool       | tuple, frozenset     |\n",
        "\n",
        "\n",
        "### **References and Values in Python**\n",
        "\n",
        "In programming, it’s important to distinguish **references** and **values**:\n",
        "\n",
        "- Values are actual data stored in memory — they can be scalar or composite  \n",
        "- References are **memory addresses** pointing to stored values  \n",
        "- Some operations work with values, while others work with references  \n",
        "\n",
        "### In Python:\n",
        "- Variables are references to objects — not containers that hold values  \n",
        "- Assignment doesn’t copy data — it **binds** a name to an existing object\n",
        "\n",
        "### **Shallow and Deep Copies in Python**\n",
        "\n",
        "### Shallow Copies\n",
        "\n",
        "```\n",
        "copy() #shallow copies\n",
        "```\n",
        "\n",
        "Objects created by **shallow copying**:\n",
        "\n",
        "- Are new objects, distinct from the original  \n",
        "- Share references to contained or nested objects in the source object  \n",
        "- Can cause **side effects** if shared objects are mutated  \n",
        "\n",
        "### Deep Copies\n",
        "\n",
        "```\n",
        "deepcopy() #deep copies\n",
        "```\n",
        "\n",
        "- Are new objects, distinct from the original  \n",
        "- Contain copies of nested objects, not just references  \n",
        "- Have no shared references with the original object  \n",
        "- Can be modified with no risk of causing side effects  "
      ],
      "metadata": {
        "id": "ainjz8Hr-c7t"
      }
    },
    {
      "cell_type": "code",
      "source": [],
      "metadata": {
        "id": "vyieH2OG9SII"
      },
      "execution_count": null,
      "outputs": []
    },
    {
      "cell_type": "code",
      "execution_count": null,
      "metadata": {
        "id": "1XMrTzpP9DxV"
      },
      "outputs": [],
      "source": []
    }
  ]
}