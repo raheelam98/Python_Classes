{
  "nbformat": 4,
  "nbformat_minor": 0,
  "metadata": {
    "colab": {
      "provenance": [],
      "authorship_tag": "ABX9TyPl+5EmcdIOv9sU09EKil6O",
      "include_colab_link": true
    },
    "kernelspec": {
      "name": "python3",
      "display_name": "Python 3"
    },
    "language_info": {
      "name": "python"
    }
  },
  "cells": [
    {
      "cell_type": "markdown",
      "metadata": {
        "id": "view-in-github",
        "colab_type": "text"
      },
      "source": [
        "<a href=\"https://colab.research.google.com/github/raheelam98/Python_Classes/blob/main/Python%20Concepts/deep_shallow_copies.ipynb\" target=\"_parent\"><img src=\"https://colab.research.google.com/assets/colab-badge.svg\" alt=\"Open In Colab\"/></a>"
      ]
    },
    {
      "cell_type": "markdown",
      "source": [
        "## **Deep vs Shallow Copies in Python**\n",
        "\n",
        "[Deep vs Shallow Copies in Python - Real Python](https://realpython.com/courses/deep-vs-shallow-copies/)\n"
      ],
      "metadata": {
        "id": "xS2G6bX-9SgG"
      }
    },
    {
      "cell_type": "markdown",
      "source": [
        "**In Python, the `is` operator is different from `==`.**\n",
        "\n",
        "- **`==`** (equality operator) → checks if **two objects have the same value**.  \n",
        "- **`is`** (identity operator) → checks if **two objects are actually the same object in memory** (i.e., same reference).  \n",
        "\n",
        "### Example\n",
        "\n",
        "```python\n",
        "a = [1, 2, 3]\n",
        "b = [1, 2, 3]\n",
        "\n",
        "print(id(a)) # 139354246910080\n",
        "\n",
        "print(id(b)) # 139354246916544\n",
        "\n",
        "print(a == b)   # True  -> values are the same\n",
        "print(a is b)   # False -> different objects in memory\n",
        "\n",
        "c = a\n",
        "print(a is c)   # True  -> both refer to the same object\n",
        "\n",
        "print(id(c))   # 139354246910080\n",
        "\n",
        "```\n"
      ],
      "metadata": {
        "id": "iwFFWuYzOtnx"
      }
    },
    {
      "cell_type": "markdown",
      "source": [
        "## **Characteristics of Python Objects**\n",
        "\n",
        "Objects in Python can be:\n",
        "\n",
        "### **Scalar or Composite**\n",
        "- Scalar data types represent indivisible, atomic values  \n",
        "- Composite data types are containers made up of other elements  \n",
        "\n",
        "### **Mutable or Immutable**\n",
        "- Mutable objects can be altered after creation  \n",
        "- Immutable objects are unchangeable and read-only once defined  \n",
        "\n",
        "\n",
        "|              | Scalar                 | Composite            |\n",
        "|--------------|------------------------|----------------------|\n",
        "| **Mutable**   | Not built-in           | list, dict, set      |\n",
        "| **Immutable** | int, float, bool       | tuple, frozenset     |\n",
        "\n",
        "\n",
        "### **References and Values in Python**\n",
        "\n",
        "In programming, it’s important to distinguish **references** and **values**:\n",
        "\n",
        "- Values are actual data stored in memory — they can be scalar or composite  \n",
        "- References are **memory addresses** pointing to stored values  \n",
        "- Some operations work with values, while others work with references  \n",
        "\n",
        "### In Python:\n",
        "- Variables are references to objects — not containers that hold values  \n",
        "- Assignment doesn’t copy data — it **binds** a name to an existing object\n",
        "\n",
        "### **Shallow and Deep Copies in Python**\n",
        "\n",
        "**Shallow Copies**\n",
        "\n",
        "```\n",
        "copy() #shallow copies\n",
        "```\n",
        "\n",
        "Objects created by **shallow copying**:\n",
        "\n",
        "- Are new objects, distinct from the original  \n",
        "- Share references to contained or nested objects in the source object  \n",
        "- Can cause **side effects** if shared objects are mutated  \n",
        "\n",
        "**Deep Copies**\n",
        "\n",
        "```\n",
        "deepcopy() #deep copies\n",
        "```\n",
        "\n",
        "- Are new objects, distinct from the original  \n",
        "- Contain copies of nested objects, not just references  \n",
        "- Have no shared references with the original object  \n",
        "- Can be modified with no risk of causing side effects  "
      ],
      "metadata": {
        "id": "ainjz8Hr-c7t"
      }
    },
    {
      "cell_type": "markdown",
      "source": [
        "## **Shallow copy**\n",
        "\n",
        "### **Key Points**\n",
        "- Shallow copying creates a **new object**, but it does **not copy nested objects**.  \n",
        "- Instead, it copies **references** to nested objects.  \n",
        "- Works fine with **immutable objects** (like numbers, strings), but can cause problems with **mutable objects** (like lists, dicts).  \n",
        "- Changes in nested objects of the original will also appear in the shallow copy.  \n",
        "\n",
        "**Example with a Dictionary**\n",
        "- `inventory` is a dictionary with categories like `fruits` and `dairy`.  \n",
        "- **Create a shallow copy**\n",
        "Use the `copy()` function from the `copy` module:\n",
        "\n",
        "```python\n",
        "from copy import copy as shallow_copy\n",
        "backup = shallow_copy(inventory)\n",
        "```\n",
        "\n",
        "- backup == inventory → True (same values).\n",
        "- backup is inventory → False (different objects in memory).\n",
        "\n",
        "**Observations**\n",
        "\n",
        "- Adding a new **top-level** key to inventory does not affect backup.\n",
        "\n",
        "- But modifying a **nested dictionary** inside inventory (like fruits) also changes backup.\n",
        "\n",
        "- Reason: both objects share the same reference to the nested dictionary.\n",
        "\n",
        "**Limitation**\n",
        "\n",
        "- Shallow copy only duplicates the outer object, not the inner objects.\n",
        "\n",
        "- To copy **everything independently**, you need a deep copy.\n"
      ],
      "metadata": {
        "id": "soBCIIf8Wh0B"
      }
    },
    {
      "cell_type": "code",
      "source": [
        "# Shallow in Python\n",
        "\n",
        "from copy import copy, deepcopy\n",
        "\n",
        "# Original dictionary with nested dictionaries\n",
        "inventory_shallow = {\n",
        "\n",
        "    \"fruits\" : {\n",
        "        \"apples\" : 30,\n",
        "        \"bananas\" : 20,\n",
        "    },\n",
        "    \"dairy\" : {\n",
        "        \"cheese\" : 25,\n",
        "        \"milk\" : 15,\n",
        "    }\n",
        "\n",
        "}"
      ],
      "metadata": {
        "id": "vyieH2OG9SII"
      },
      "execution_count": 39,
      "outputs": []
    },
    {
      "cell_type": "code",
      "execution_count": 40,
      "metadata": {
        "id": "1XMrTzpP9DxV",
        "colab": {
          "base_uri": "https://localhost:8080/"
        },
        "outputId": "d74c2cda-7c99-4159-ce1b-ae3e4d9a6401"
      },
      "outputs": [
        {
          "output_type": "stream",
          "name": "stdout",
          "text": [
            "Display the shallow copy\n",
            "\n"
          ]
        },
        {
          "output_type": "execute_result",
          "data": {
            "text/plain": [
              "{'fruits': {'apples': 30, 'bananas': 20}, 'dairy': {'cheese': 25, 'milk': 15}}"
            ]
          },
          "metadata": {},
          "execution_count": 40
        }
      ],
      "source": [
        "# Create a shallow copy using the built-in dict.copy() method\n",
        "backup_shallow = inventory_shallow .copy()\n",
        "\n",
        "# Display the shallow copy\n",
        "print(\"Display the shallow copy\\n\")\n",
        "backup_shallow"
      ]
    },
    {
      "cell_type": "code",
      "source": [
        "print(\"Display the original dictionary\\n\")\n",
        "inventory_shallow"
      ],
      "metadata": {
        "id": "5rx23MlwMUfO",
        "outputId": "49e9c761-42c4-4907-a73f-441c1a748fe5",
        "colab": {
          "base_uri": "https://localhost:8080/"
        }
      },
      "execution_count": 41,
      "outputs": [
        {
          "output_type": "stream",
          "name": "stdout",
          "text": [
            "Display the original dictionary\n",
            "\n"
          ]
        },
        {
          "output_type": "execute_result",
          "data": {
            "text/plain": [
              "{'fruits': {'apples': 30, 'bananas': 20}, 'dairy': {'cheese': 25, 'milk': 15}}"
            ]
          },
          "metadata": {},
          "execution_count": 41
        }
      ]
    },
    {
      "cell_type": "code",
      "source": [
        "# Check the type of the backup object (should be dict)\n",
        "type(backup_shallow)"
      ],
      "metadata": {
        "id": "fQRO081KIvrS",
        "outputId": "ff911eda-77b1-4496-caea-f878b4573586",
        "colab": {
          "base_uri": "https://localhost:8080/"
        }
      },
      "execution_count": 42,
      "outputs": [
        {
          "output_type": "execute_result",
          "data": {
            "text/plain": [
              "dict"
            ]
          },
          "metadata": {},
          "execution_count": 42
        }
      ]
    },
    {
      "cell_type": "code",
      "source": [
        "# Check the type of the inventory object (should be dict)\n",
        "type(inventory_shallow )"
      ],
      "metadata": {
        "id": "FqRzwD7lNWGU",
        "outputId": "961d8fe1-d553-4267-9d4b-b6faa3ead69e",
        "colab": {
          "base_uri": "https://localhost:8080/"
        }
      },
      "execution_count": 43,
      "outputs": [
        {
          "output_type": "execute_result",
          "data": {
            "text/plain": [
              "dict"
            ]
          },
          "metadata": {},
          "execution_count": 43
        }
      ]
    },
    {
      "cell_type": "code",
      "source": [
        "# Check two dictory are evaluates (return true)\n",
        "# Check if the content (values) of both dictionaries are equal -> True\n",
        "backup_shallow == inventory_shallow"
      ],
      "metadata": {
        "id": "RoGf5hfxJHxQ",
        "outputId": "12e961ff-9967-465b-8935-ee21700a94f2",
        "colab": {
          "base_uri": "https://localhost:8080/"
        }
      },
      "execution_count": 44,
      "outputs": [
        {
          "output_type": "execute_result",
          "data": {
            "text/plain": [
              "True"
            ]
          },
          "metadata": {},
          "execution_count": 44
        }
      ]
    },
    {
      "cell_type": "code",
      "source": [
        "# Are they different objects (backup and inventory are separate obect -> False)\n",
        "## Check if both variables point to the same object in memory -> False\n",
        "backup_shallow is inventory_shallow"
      ],
      "metadata": {
        "id": "EwJnxniEJNPy",
        "outputId": "67a3a781-982e-49b6-c63f-9ca6810f4b17",
        "colab": {
          "base_uri": "https://localhost:8080/"
        }
      },
      "execution_count": 46,
      "outputs": [
        {
          "output_type": "execute_result",
          "data": {
            "text/plain": [
              "False"
            ]
          },
          "metadata": {},
          "execution_count": 46
        }
      ]
    },
    {
      "cell_type": "code",
      "source": [
        "inventory_shallow [\"seafoods\"] = {\n",
        "    \"shrimp\" : 50,\n",
        "    \"salmon\" : 40,\n",
        "    \"tuna\" : 30,\n",
        "}\n"
      ],
      "metadata": {
        "id": "1BzvlT0nQnAE"
      },
      "execution_count": 47,
      "outputs": []
    },
    {
      "cell_type": "code",
      "source": [
        "inventory_shallow"
      ],
      "metadata": {
        "id": "UC94LEG1RJZX",
        "outputId": "85501fcb-6e2e-4a4b-bd8d-c52db758908e",
        "colab": {
          "base_uri": "https://localhost:8080/"
        }
      },
      "execution_count": 48,
      "outputs": [
        {
          "output_type": "execute_result",
          "data": {
            "text/plain": [
              "{'fruits': {'apples': 30, 'bananas': 20},\n",
              " 'dairy': {'cheese': 25, 'milk': 15},\n",
              " 'seafoods': {'shrimp': 50, 'salmon': 40, 'tuna': 30}}"
            ]
          },
          "metadata": {},
          "execution_count": 48
        }
      ]
    },
    {
      "cell_type": "code",
      "source": [
        "# udate inventory\n",
        "inventory_shallow [\"fruits\"][\"orange\"] = 35\n",
        "inventory_shallow"
      ],
      "metadata": {
        "id": "w7TdHSGhRvwb",
        "outputId": "dec9c2d1-bbbd-462f-9c43-08480cad04bf",
        "colab": {
          "base_uri": "https://localhost:8080/"
        }
      },
      "execution_count": 49,
      "outputs": [
        {
          "output_type": "execute_result",
          "data": {
            "text/plain": [
              "{'fruits': {'apples': 30, 'bananas': 20, 'orange': 35},\n",
              " 'dairy': {'cheese': 25, 'milk': 15},\n",
              " 'seafoods': {'shrimp': 50, 'salmon': 40, 'tuna': 30}}"
            ]
          },
          "metadata": {},
          "execution_count": 49
        }
      ]
    },
    {
      "cell_type": "code",
      "source": [
        "backup_shallow"
      ],
      "metadata": {
        "id": "1tJ18jzLSbgf",
        "outputId": "d37d1f1e-30f1-42a6-867c-43aff9a6bdd2",
        "colab": {
          "base_uri": "https://localhost:8080/"
        }
      },
      "execution_count": 50,
      "outputs": [
        {
          "output_type": "execute_result",
          "data": {
            "text/plain": [
              "{'fruits': {'apples': 30, 'bananas': 20, 'orange': 35},\n",
              " 'dairy': {'cheese': 25, 'milk': 15}}"
            ]
          },
          "metadata": {},
          "execution_count": 50
        }
      ]
    },
    {
      "cell_type": "markdown",
      "source": [
        "- update fruits in inventory update the abackup furits as well\n",
        "- Why - Because shallow copy only copyies reference to nested objects not the values those reference point to\n",
        "- But what about the objects inside them? Compare the fruits dictionaries. backup[\"fruits\"] is inventory[\"fruits\"]."
      ],
      "metadata": {
        "id": "7oigLk5KS2Jj"
      }
    },
    {
      "cell_type": "code",
      "source": [
        " # returns True, meaning they are the same object.\n",
        "backup_shallow[\"fruits\"] is inventory_shallow [\"fruits\"]"
      ],
      "metadata": {
        "id": "6AEK196RUK2L",
        "outputId": "07089a1c-3214-4044-a17d-56cbfad0b606",
        "colab": {
          "base_uri": "https://localhost:8080/"
        }
      },
      "execution_count": 51,
      "outputs": [
        {
          "output_type": "execute_result",
          "data": {
            "text/plain": [
              "True"
            ]
          },
          "metadata": {},
          "execution_count": 51
        }
      ]
    },
    {
      "cell_type": "code",
      "source": [
        "# ==  :-  also returns True. So while shallow copying does create a new object, it has clear limitations.\n",
        "id(backup_shallow[\"fruits\"]) == id (inventory_shallow [\"fruits\"])"
      ],
      "metadata": {
        "id": "W96bqvSaVp0k",
        "outputId": "9fee845c-9ffe-4b73-cc01-fbd8f0e91758",
        "colab": {
          "base_uri": "https://localhost:8080/"
        }
      },
      "execution_count": 52,
      "outputs": [
        {
          "output_type": "execute_result",
          "data": {
            "text/plain": [
              "True"
            ]
          },
          "metadata": {},
          "execution_count": 52
        }
      ]
    },
    {
      "cell_type": "code",
      "source": [
        "id(backup_shallow[\"fruits\"])"
      ],
      "metadata": {
        "id": "e4n2FDLaWAGH",
        "outputId": "9d390bc9-0246-4d0c-b7d4-0b27c1b0f91b",
        "colab": {
          "base_uri": "https://localhost:8080/"
        }
      },
      "execution_count": 53,
      "outputs": [
        {
          "output_type": "execute_result",
          "data": {
            "text/plain": [
              "139354246833344"
            ]
          },
          "metadata": {},
          "execution_count": 53
        }
      ]
    },
    {
      "cell_type": "code",
      "source": [
        "id(inventory_shallow[\"fruits\"])"
      ],
      "metadata": {
        "id": "Zw1XORTWWJEn",
        "outputId": "d0d46656-4a30-4d9d-b870-08286205f256",
        "colab": {
          "base_uri": "https://localhost:8080/"
        }
      },
      "execution_count": 54,
      "outputs": [
        {
          "output_type": "execute_result",
          "data": {
            "text/plain": [
              "139354246833344"
            ]
          },
          "metadata": {},
          "execution_count": 54
        }
      ]
    },
    {
      "cell_type": "markdown",
      "source": [
        "## **Deep Copy**\n",
        "\n",
        "### **Key Points**\n",
        "\n",
        "- Deep copying **recursively copies all objects**, including nested ones.  \n",
        "- The new object and its nested objects are completely **independent** from the original.  \n",
        "- No shared references → changes in one object do not affect the other.  \n",
        "\n",
        "**Make a Deep Copy**\n",
        "- Use the `deepcopy()` function from the `copy` module:\n",
        "```python\n",
        "from copy import deepcopy\n",
        "backup = deepcopy(inventory)\n",
        "```\n",
        "- backup == inventory → True (values are the same).\n",
        "\n",
        "- backup is inventory → False (different objects in memory).\n",
        "\n",
        "- Even nested objects are different\n",
        "```\n",
        "inventory['dairy'] is backup['dairy']  # False\n",
        "```\n",
        "\n",
        "**Example**\n",
        "\n",
        "- Adding a new fruit orange to inventory['fruits'] does not affect backup['fruits'].\n",
        "\n",
        "- This shows that nested objects are also copied separately.\n",
        "\n",
        "**When to Use Deep Copy**\n",
        "\n",
        "- Use when you need **completely independent objects**  including nested ones.\n",
        "- Avoid if nested objects are **immutable**, since deepcopy is slower and uses more memory.\n",
        "- Example: copying a list of strings with shallow copy is enough, because strings are immutable.\n",
        "\n",
        "**Performance Note**\n",
        "\n",
        "- Deep copy has extra overhead (time and memory).\n",
        "- If you only need to duplicate the top-level object and nested objects are immutable, **shallow copy is better**."
      ],
      "metadata": {
        "id": "MUDYXz4aWo4X"
      }
    },
    {
      "cell_type": "code",
      "source": [
        "# Deep Copies in Python\n",
        "\n",
        "from copy import copy, deepcopy\n",
        "\n",
        "# Original dictionary with nested dictionaries\n",
        "inventory_deep = {\n",
        "\n",
        "    \"fruits\" : {\n",
        "        \"apples\" : 30,\n",
        "        \"bananas\" : 20,\n",
        "    },\n",
        "    \"dairy\" : {\n",
        "        \"cheese\" : 25,\n",
        "        \"milk\" : 15,\n",
        "    }\n",
        "\n",
        "}"
      ],
      "metadata": {
        "id": "iptGPwHsWogt"
      },
      "execution_count": 55,
      "outputs": []
    }
  ]
}